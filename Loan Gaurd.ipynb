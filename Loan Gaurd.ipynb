{
 "cells": [
  {
   "cell_type": "markdown",
   "id": "dbdfcb74",
   "metadata": {},
   "source": [
    "# EECS 4404/5327 Project Part 5 \n",
    "\n",
    "#### Aum Patel (218153338), Hrushi Patel (218534206), Huy Vuong (217746801) "
   ]
  },
  {
   "cell_type": "code",
   "execution_count": 27,
   "id": "initial_id",
   "metadata": {
    "ExecuteTime": {
     "end_time": "2023-11-24T17:56:53.838836500Z",
     "start_time": "2023-11-24T17:56:47.366862200Z"
    }
   },
   "outputs": [],
   "source": [
    "import pandas as pd\n",
    "import numpy as np\n",
    "import seaborn as sns\n",
    "import matplotlib.pyplot as plt\n",
    "# Models from Scikit-Learn\n",
    "from sklearn.linear_model import LogisticRegression\n",
    "from sklearn.ensemble import RandomForestClassifier\n",
    "from sklearn.svm import SVC\n",
    "\n",
    "#model evaluation form sklearn \n",
    "from sklearn.model_selection import train_test_split\n",
    "from sklearn.metrics import accuracy_score, precision_score, recall_score, f1_score, classification_report\n",
    "from sklearn.metrics import confusion_matrix\n",
    "from sklearn.preprocessing import LabelEncoder\n",
    "\n",
    "\n",
    "# one hot encoder from scikit learn\n",
    "from sklearn.preprocessing import OneHotEncoder\n",
    "\n",
    "# imputer from scikit learn\n",
    "from sklearn.impute import SimpleImputer\n",
    "from sklearn.compose import ColumnTransformer"
   ]
  },
  {
   "cell_type": "code",
   "execution_count": 28,
   "id": "78c83d337be43387",
   "metadata": {},
   "outputs": [],
   "source": [
    "df1 = pd.read_csv(\"loan-train.csv\")\n"
   ]
  },
  {
   "cell_type": "code",
   "execution_count": 29,
   "id": "76b58dd4",
   "metadata": {},
   "outputs": [
    {
     "data": {
      "text/html": [
       "<div>\n",
       "<style scoped>\n",
       "    .dataframe tbody tr th:only-of-type {\n",
       "        vertical-align: middle;\n",
       "    }\n",
       "\n",
       "    .dataframe tbody tr th {\n",
       "        vertical-align: top;\n",
       "    }\n",
       "\n",
       "    .dataframe thead th {\n",
       "        text-align: right;\n",
       "    }\n",
       "</style>\n",
       "<table border=\"1\" class=\"dataframe\">\n",
       "  <thead>\n",
       "    <tr style=\"text-align: right;\">\n",
       "      <th></th>\n",
       "      <th>Loan_ID</th>\n",
       "      <th>Gender</th>\n",
       "      <th>Married</th>\n",
       "      <th>Dependents</th>\n",
       "      <th>Education</th>\n",
       "      <th>Self_Employed</th>\n",
       "      <th>ApplicantIncome</th>\n",
       "      <th>CoapplicantIncome</th>\n",
       "      <th>LoanAmount</th>\n",
       "      <th>Loan_Amount_Term</th>\n",
       "      <th>Credit_History</th>\n",
       "      <th>Property_Area</th>\n",
       "      <th>Loan_Status</th>\n",
       "    </tr>\n",
       "  </thead>\n",
       "  <tbody>\n",
       "    <tr>\n",
       "      <th>0</th>\n",
       "      <td>LP001002</td>\n",
       "      <td>Male</td>\n",
       "      <td>No</td>\n",
       "      <td>0</td>\n",
       "      <td>Graduate</td>\n",
       "      <td>No</td>\n",
       "      <td>5849</td>\n",
       "      <td>0.0</td>\n",
       "      <td>NaN</td>\n",
       "      <td>360.0</td>\n",
       "      <td>1.0</td>\n",
       "      <td>Urban</td>\n",
       "      <td>Y</td>\n",
       "    </tr>\n",
       "    <tr>\n",
       "      <th>1</th>\n",
       "      <td>LP001003</td>\n",
       "      <td>Male</td>\n",
       "      <td>Yes</td>\n",
       "      <td>1</td>\n",
       "      <td>Graduate</td>\n",
       "      <td>No</td>\n",
       "      <td>4583</td>\n",
       "      <td>1508.0</td>\n",
       "      <td>128.0</td>\n",
       "      <td>360.0</td>\n",
       "      <td>1.0</td>\n",
       "      <td>Rural</td>\n",
       "      <td>N</td>\n",
       "    </tr>\n",
       "    <tr>\n",
       "      <th>2</th>\n",
       "      <td>LP001005</td>\n",
       "      <td>Male</td>\n",
       "      <td>Yes</td>\n",
       "      <td>0</td>\n",
       "      <td>Graduate</td>\n",
       "      <td>Yes</td>\n",
       "      <td>3000</td>\n",
       "      <td>0.0</td>\n",
       "      <td>66.0</td>\n",
       "      <td>360.0</td>\n",
       "      <td>1.0</td>\n",
       "      <td>Urban</td>\n",
       "      <td>Y</td>\n",
       "    </tr>\n",
       "    <tr>\n",
       "      <th>3</th>\n",
       "      <td>LP001006</td>\n",
       "      <td>Male</td>\n",
       "      <td>Yes</td>\n",
       "      <td>0</td>\n",
       "      <td>Not Graduate</td>\n",
       "      <td>No</td>\n",
       "      <td>2583</td>\n",
       "      <td>2358.0</td>\n",
       "      <td>120.0</td>\n",
       "      <td>360.0</td>\n",
       "      <td>1.0</td>\n",
       "      <td>Urban</td>\n",
       "      <td>Y</td>\n",
       "    </tr>\n",
       "    <tr>\n",
       "      <th>4</th>\n",
       "      <td>LP001008</td>\n",
       "      <td>Male</td>\n",
       "      <td>No</td>\n",
       "      <td>0</td>\n",
       "      <td>Graduate</td>\n",
       "      <td>No</td>\n",
       "      <td>6000</td>\n",
       "      <td>0.0</td>\n",
       "      <td>141.0</td>\n",
       "      <td>360.0</td>\n",
       "      <td>1.0</td>\n",
       "      <td>Urban</td>\n",
       "      <td>Y</td>\n",
       "    </tr>\n",
       "  </tbody>\n",
       "</table>\n",
       "</div>"
      ],
      "text/plain": [
       "    Loan_ID Gender Married Dependents     Education Self_Employed  \\\n",
       "0  LP001002   Male      No          0      Graduate            No   \n",
       "1  LP001003   Male     Yes          1      Graduate            No   \n",
       "2  LP001005   Male     Yes          0      Graduate           Yes   \n",
       "3  LP001006   Male     Yes          0  Not Graduate            No   \n",
       "4  LP001008   Male      No          0      Graduate            No   \n",
       "\n",
       "   ApplicantIncome  CoapplicantIncome  LoanAmount  Loan_Amount_Term  \\\n",
       "0             5849                0.0         NaN             360.0   \n",
       "1             4583             1508.0       128.0             360.0   \n",
       "2             3000                0.0        66.0             360.0   \n",
       "3             2583             2358.0       120.0             360.0   \n",
       "4             6000                0.0       141.0             360.0   \n",
       "\n",
       "   Credit_History Property_Area Loan_Status  \n",
       "0             1.0         Urban           Y  \n",
       "1             1.0         Rural           N  \n",
       "2             1.0         Urban           Y  \n",
       "3             1.0         Urban           Y  \n",
       "4             1.0         Urban           Y  "
      ]
     },
     "execution_count": 29,
     "metadata": {},
     "output_type": "execute_result"
    }
   ],
   "source": [
    "df1.head()"
   ]
  },
  {
   "cell_type": "code",
   "execution_count": 30,
   "id": "33a0b615",
   "metadata": {},
   "outputs": [
    {
     "name": "stdout",
     "output_type": "stream",
     "text": [
      "(614, 13)\n"
     ]
    }
   ],
   "source": [
    "print(df1.shape)"
   ]
  },
  {
   "cell_type": "code",
   "execution_count": 31,
   "id": "e64fa102",
   "metadata": {
    "scrolled": true
   },
   "outputs": [
    {
     "data": {
      "text/plain": [
       "Loan_ID               object\n",
       "Gender                object\n",
       "Married               object\n",
       "Dependents            object\n",
       "Education             object\n",
       "Self_Employed         object\n",
       "ApplicantIncome        int64\n",
       "CoapplicantIncome    float64\n",
       "LoanAmount           float64\n",
       "Loan_Amount_Term     float64\n",
       "Credit_History       float64\n",
       "Property_Area         object\n",
       "Loan_Status           object\n",
       "dtype: object"
      ]
     },
     "execution_count": 31,
     "metadata": {},
     "output_type": "execute_result"
    }
   ],
   "source": [
    "# working on df1 to clean the dataset\n",
    "df1.dtypes"
   ]
  },
  {
   "cell_type": "code",
   "execution_count": 32,
   "id": "bd494b7d",
   "metadata": {},
   "outputs": [
    {
     "data": {
      "text/plain": [
       "Loan_ID               0\n",
       "Gender               13\n",
       "Married               3\n",
       "Dependents           15\n",
       "Education             0\n",
       "Self_Employed        32\n",
       "ApplicantIncome       0\n",
       "CoapplicantIncome     0\n",
       "LoanAmount           22\n",
       "Loan_Amount_Term     14\n",
       "Credit_History       50\n",
       "Property_Area         0\n",
       "Loan_Status           0\n",
       "dtype: int64"
      ]
     },
     "execution_count": 32,
     "metadata": {},
     "output_type": "execute_result"
    }
   ],
   "source": [
    "df1.isna().sum()"
   ]
  },
  {
   "cell_type": "markdown",
   "id": "7252847c",
   "metadata": {},
   "source": [
    "Object types - Gender, Married, "
   ]
  },
  {
   "cell_type": "code",
   "execution_count": 33,
   "id": "d07af182",
   "metadata": {},
   "outputs": [],
   "source": [
    "df_train = df1"
   ]
  },
  {
   "cell_type": "code",
   "execution_count": 34,
   "id": "cab38d45",
   "metadata": {},
   "outputs": [
    {
     "data": {
      "text/plain": [
       "(614, 13)"
      ]
     },
     "execution_count": 34,
     "metadata": {},
     "output_type": "execute_result"
    }
   ],
   "source": [
    "df_train.shape"
   ]
  },
  {
   "cell_type": "markdown",
   "id": "0e9c40fd",
   "metadata": {},
   "source": [
    "### Data Pre-Processing"
   ]
  },
  {
   "cell_type": "code",
   "execution_count": 35,
   "id": "6630ac05",
   "metadata": {},
   "outputs": [
    {
     "data": {
      "text/plain": [
       "Loan_ID              0\n",
       "Gender               0\n",
       "Married              3\n",
       "Dependents           0\n",
       "Education            0\n",
       "Self_Employed        0\n",
       "ApplicantIncome      0\n",
       "CoapplicantIncome    0\n",
       "LoanAmount           0\n",
       "Loan_Amount_Term     0\n",
       "Credit_History       0\n",
       "Property_Area        0\n",
       "Loan_Status          0\n",
       "dtype: int64"
      ]
     },
     "execution_count": 35,
     "metadata": {},
     "output_type": "execute_result"
    }
   ],
   "source": [
    "#Replace the missing value with mode using 'fiilna' method\n",
    "df_train['Dependents'].fillna(df_train['Dependents'].mode()[0],inplace=True)\n",
    "\n",
    "#Replace the missing values for numerical columns with mean\n",
    "df_train['LoanAmount'].fillna(df_train['LoanAmount'].mean(),inplace=True)\n",
    "\n",
    "#Replace the missing values for categorical columns with mode\n",
    "df_train['Credit_History'].fillna(df_train['Credit_History'].mode()[0],inplace=True)\n",
    "df_train['Gender'].fillna(df_train['Gender'].mode()[0],inplace=True)\n",
    "df_train['Married'].fillna(df_train['Married'].mode()[0])\n",
    "df_train['Self_Employed'].fillna(df_train['Self_Employed'].mode()[0],inplace=True)\n",
    "df_train['Loan_Amount_Term'].fillna(df_train['Loan_Amount_Term'].mode()[0],inplace=True)\n",
    "\n",
    "df_train.isnull().sum()"
   ]
  },
  {
   "cell_type": "code",
   "execution_count": 36,
   "id": "8d658f25",
   "metadata": {},
   "outputs": [],
   "source": [
    "# Label encoding for categorical variables\n",
    "lb=LabelEncoder()\n",
    "df_train['Gender']=lb.fit_transform(df_train['Gender'])\n",
    "df_train['Married']=lb.fit_transform(df_train['Married'])\n",
    "df_train['Education']=lb.fit_transform(df_train['Education'])\n",
    "df_train['Self_Employed']=lb.fit_transform(df_train['Self_Employed'])\n",
    "df_train['Property_Area']=lb.fit_transform(df_train['Property_Area'])\n",
    "df_train['Loan_Status']=lb.fit_transform(df_train['Loan_Status'])"
   ]
  },
  {
   "cell_type": "code",
   "execution_count": 37,
   "id": "32a929b2",
   "metadata": {},
   "outputs": [],
   "source": [
    "# Log transformation of numerical features to address skewness\n",
    "df_train['LoanAmount_log'] = np.log1p(df_train['LoanAmount']) \n",
    "df_train['ApplicantIncome_log'] = np.log1p(df_train['ApplicantIncome']) \n",
    "df_train['CoapplicantIncome_log'] = np.log1p(df_train['CoapplicantIncome'])\n",
    "\n",
    "# Feature engineering to create new features\n",
    "df_train['TotalIncome'] = np.log1p(df_train['ApplicantIncome']+df_train['CoapplicantIncome'])\n",
    "df_train['TotalIncome_log'] = np.log1p(df_train['TotalIncome']) \n",
    "df_train['EMI']=df_train['LoanAmount']/df_train['Loan_Amount_Term'] \n",
    "df_train['Balance_Income']=df_train['TotalIncome']-(df_train['EMI']*1000)\n",
    "df_train.drop(['ApplicantIncome','CoapplicantIncome','LoanAmount','Loan_Amount_Term','TotalIncome'],\n",
    "           axis=1, inplace=True) \n"
   ]
  },
  {
   "cell_type": "code",
   "execution_count": 38,
   "id": "8be25d3c",
   "metadata": {},
   "outputs": [
    {
     "data": {
      "text/html": [
       "<div>\n",
       "<style scoped>\n",
       "    .dataframe tbody tr th:only-of-type {\n",
       "        vertical-align: middle;\n",
       "    }\n",
       "\n",
       "    .dataframe tbody tr th {\n",
       "        vertical-align: top;\n",
       "    }\n",
       "\n",
       "    .dataframe thead th {\n",
       "        text-align: right;\n",
       "    }\n",
       "</style>\n",
       "<table border=\"1\" class=\"dataframe\">\n",
       "  <thead>\n",
       "    <tr style=\"text-align: right;\">\n",
       "      <th></th>\n",
       "      <th>Loan_ID</th>\n",
       "      <th>Gender</th>\n",
       "      <th>Married</th>\n",
       "      <th>Dependents</th>\n",
       "      <th>Education</th>\n",
       "      <th>Self_Employed</th>\n",
       "      <th>Credit_History</th>\n",
       "      <th>Property_Area</th>\n",
       "      <th>Loan_Status</th>\n",
       "      <th>LoanAmount_log</th>\n",
       "      <th>ApplicantIncome_log</th>\n",
       "      <th>CoapplicantIncome_log</th>\n",
       "      <th>TotalIncome_log</th>\n",
       "      <th>EMI</th>\n",
       "      <th>Balance_Income</th>\n",
       "    </tr>\n",
       "  </thead>\n",
       "  <tbody>\n",
       "    <tr>\n",
       "      <th>0</th>\n",
       "      <td>LP001002</td>\n",
       "      <td>1</td>\n",
       "      <td>0</td>\n",
       "      <td>0</td>\n",
       "      <td>0</td>\n",
       "      <td>0</td>\n",
       "      <td>1.0</td>\n",
       "      <td>2</td>\n",
       "      <td>1</td>\n",
       "      <td>4.993232</td>\n",
       "      <td>8.674197</td>\n",
       "      <td>0.000000</td>\n",
       "      <td>2.269462</td>\n",
       "      <td>0.406700</td>\n",
       "      <td>-398.026254</td>\n",
       "    </tr>\n",
       "    <tr>\n",
       "      <th>1</th>\n",
       "      <td>LP001003</td>\n",
       "      <td>1</td>\n",
       "      <td>1</td>\n",
       "      <td>1</td>\n",
       "      <td>0</td>\n",
       "      <td>0</td>\n",
       "      <td>1.0</td>\n",
       "      <td>0</td>\n",
       "      <td>0</td>\n",
       "      <td>4.859812</td>\n",
       "      <td>8.430327</td>\n",
       "      <td>7.319202</td>\n",
       "      <td>2.273643</td>\n",
       "      <td>0.355556</td>\n",
       "      <td>-346.840824</td>\n",
       "    </tr>\n",
       "    <tr>\n",
       "      <th>2</th>\n",
       "      <td>LP001005</td>\n",
       "      <td>1</td>\n",
       "      <td>1</td>\n",
       "      <td>0</td>\n",
       "      <td>0</td>\n",
       "      <td>1</td>\n",
       "      <td>1.0</td>\n",
       "      <td>2</td>\n",
       "      <td>1</td>\n",
       "      <td>4.204693</td>\n",
       "      <td>8.006701</td>\n",
       "      <td>0.000000</td>\n",
       "      <td>2.197969</td>\n",
       "      <td>0.183333</td>\n",
       "      <td>-175.326632</td>\n",
       "    </tr>\n",
       "    <tr>\n",
       "      <th>3</th>\n",
       "      <td>LP001006</td>\n",
       "      <td>1</td>\n",
       "      <td>1</td>\n",
       "      <td>0</td>\n",
       "      <td>1</td>\n",
       "      <td>0</td>\n",
       "      <td>1.0</td>\n",
       "      <td>2</td>\n",
       "      <td>1</td>\n",
       "      <td>4.795791</td>\n",
       "      <td>7.857094</td>\n",
       "      <td>7.765993</td>\n",
       "      <td>2.251873</td>\n",
       "      <td>0.333333</td>\n",
       "      <td>-324.827808</td>\n",
       "    </tr>\n",
       "    <tr>\n",
       "      <th>4</th>\n",
       "      <td>LP001008</td>\n",
       "      <td>1</td>\n",
       "      <td>0</td>\n",
       "      <td>0</td>\n",
       "      <td>0</td>\n",
       "      <td>0</td>\n",
       "      <td>1.0</td>\n",
       "      <td>2</td>\n",
       "      <td>1</td>\n",
       "      <td>4.955827</td>\n",
       "      <td>8.699681</td>\n",
       "      <td>0.000000</td>\n",
       "      <td>2.272093</td>\n",
       "      <td>0.391667</td>\n",
       "      <td>-382.966985</td>\n",
       "    </tr>\n",
       "    <tr>\n",
       "      <th>5</th>\n",
       "      <td>LP001011</td>\n",
       "      <td>1</td>\n",
       "      <td>1</td>\n",
       "      <td>2</td>\n",
       "      <td>0</td>\n",
       "      <td>1</td>\n",
       "      <td>1.0</td>\n",
       "      <td>2</td>\n",
       "      <td>1</td>\n",
       "      <td>5.590987</td>\n",
       "      <td>8.597482</td>\n",
       "      <td>8.342125</td>\n",
       "      <td>2.319538</td>\n",
       "      <td>0.741667</td>\n",
       "      <td>-732.495691</td>\n",
       "    </tr>\n",
       "    <tr>\n",
       "      <th>6</th>\n",
       "      <td>LP001013</td>\n",
       "      <td>1</td>\n",
       "      <td>1</td>\n",
       "      <td>0</td>\n",
       "      <td>1</td>\n",
       "      <td>0</td>\n",
       "      <td>1.0</td>\n",
       "      <td>2</td>\n",
       "      <td>1</td>\n",
       "      <td>4.564348</td>\n",
       "      <td>7.755339</td>\n",
       "      <td>7.324490</td>\n",
       "      <td>2.225253</td>\n",
       "      <td>0.263889</td>\n",
       "      <td>-255.633060</td>\n",
       "    </tr>\n",
       "    <tr>\n",
       "      <th>7</th>\n",
       "      <td>LP001014</td>\n",
       "      <td>1</td>\n",
       "      <td>1</td>\n",
       "      <td>3+</td>\n",
       "      <td>0</td>\n",
       "      <td>0</td>\n",
       "      <td>0.0</td>\n",
       "      <td>1</td>\n",
       "      <td>0</td>\n",
       "      <td>5.068904</td>\n",
       "      <td>8.018625</td>\n",
       "      <td>7.826044</td>\n",
       "      <td>2.263837</td>\n",
       "      <td>0.438889</td>\n",
       "      <td>-430.268959</td>\n",
       "    </tr>\n",
       "    <tr>\n",
       "      <th>8</th>\n",
       "      <td>LP001018</td>\n",
       "      <td>1</td>\n",
       "      <td>1</td>\n",
       "      <td>2</td>\n",
       "      <td>0</td>\n",
       "      <td>0</td>\n",
       "      <td>1.0</td>\n",
       "      <td>2</td>\n",
       "      <td>1</td>\n",
       "      <td>5.129899</td>\n",
       "      <td>8.295798</td>\n",
       "      <td>7.331060</td>\n",
       "      <td>2.263687</td>\n",
       "      <td>0.466667</td>\n",
       "      <td>-458.048181</td>\n",
       "    </tr>\n",
       "    <tr>\n",
       "      <th>9</th>\n",
       "      <td>LP001020</td>\n",
       "      <td>1</td>\n",
       "      <td>1</td>\n",
       "      <td>1</td>\n",
       "      <td>0</td>\n",
       "      <td>0</td>\n",
       "      <td>1.0</td>\n",
       "      <td>1</td>\n",
       "      <td>0</td>\n",
       "      <td>5.857933</td>\n",
       "      <td>9.460476</td>\n",
       "      <td>9.302828</td>\n",
       "      <td>2.404949</td>\n",
       "      <td>0.969444</td>\n",
       "      <td>-959.366584</td>\n",
       "    </tr>\n",
       "  </tbody>\n",
       "</table>\n",
       "</div>"
      ],
      "text/plain": [
       "    Loan_ID  Gender  Married Dependents  Education  Self_Employed  \\\n",
       "0  LP001002       1        0          0          0              0   \n",
       "1  LP001003       1        1          1          0              0   \n",
       "2  LP001005       1        1          0          0              1   \n",
       "3  LP001006       1        1          0          1              0   \n",
       "4  LP001008       1        0          0          0              0   \n",
       "5  LP001011       1        1          2          0              1   \n",
       "6  LP001013       1        1          0          1              0   \n",
       "7  LP001014       1        1         3+          0              0   \n",
       "8  LP001018       1        1          2          0              0   \n",
       "9  LP001020       1        1          1          0              0   \n",
       "\n",
       "   Credit_History  Property_Area  Loan_Status  LoanAmount_log  \\\n",
       "0             1.0              2            1        4.993232   \n",
       "1             1.0              0            0        4.859812   \n",
       "2             1.0              2            1        4.204693   \n",
       "3             1.0              2            1        4.795791   \n",
       "4             1.0              2            1        4.955827   \n",
       "5             1.0              2            1        5.590987   \n",
       "6             1.0              2            1        4.564348   \n",
       "7             0.0              1            0        5.068904   \n",
       "8             1.0              2            1        5.129899   \n",
       "9             1.0              1            0        5.857933   \n",
       "\n",
       "   ApplicantIncome_log  CoapplicantIncome_log  TotalIncome_log       EMI  \\\n",
       "0             8.674197               0.000000         2.269462  0.406700   \n",
       "1             8.430327               7.319202         2.273643  0.355556   \n",
       "2             8.006701               0.000000         2.197969  0.183333   \n",
       "3             7.857094               7.765993         2.251873  0.333333   \n",
       "4             8.699681               0.000000         2.272093  0.391667   \n",
       "5             8.597482               8.342125         2.319538  0.741667   \n",
       "6             7.755339               7.324490         2.225253  0.263889   \n",
       "7             8.018625               7.826044         2.263837  0.438889   \n",
       "8             8.295798               7.331060         2.263687  0.466667   \n",
       "9             9.460476               9.302828         2.404949  0.969444   \n",
       "\n",
       "   Balance_Income  \n",
       "0     -398.026254  \n",
       "1     -346.840824  \n",
       "2     -175.326632  \n",
       "3     -324.827808  \n",
       "4     -382.966985  \n",
       "5     -732.495691  \n",
       "6     -255.633060  \n",
       "7     -430.268959  \n",
       "8     -458.048181  \n",
       "9     -959.366584  "
      ]
     },
     "execution_count": 38,
     "metadata": {},
     "output_type": "execute_result"
    }
   ],
   "source": [
    "df_train.head(10)"
   ]
  },
  {
   "cell_type": "code",
   "execution_count": 39,
   "id": "08fa8f65",
   "metadata": {},
   "outputs": [],
   "source": [
    "# Adjust 'Dependents' values\n",
    "df_train['Dependents'].replace('0', 0,inplace=True) \n",
    "df_train['Dependents'].replace('1', 1,inplace=True) \n",
    "df_train['Dependents'].replace('2', 2,inplace=True) \n",
    "df_train['Dependents'].replace('3+', 3,inplace=True) \n",
    "\n",
    "df_train['Dependents'].replace('0', 0,inplace=True) \n",
    "df_train['Dependents'].replace('1', 1,inplace=True) \n",
    "df_train['Dependents'].replace('2', 2,inplace=True) \n",
    "df_train['Dependents'].replace('3+', 3,inplace=True) "
   ]
  },
  {
   "cell_type": "markdown",
   "id": "d5a20ea6",
   "metadata": {},
   "source": [
    "### Training the model"
   ]
  },
  {
   "cell_type": "code",
   "execution_count": 40,
   "id": "72ff1afd",
   "metadata": {},
   "outputs": [],
   "source": [
    "X=df_train.drop(['Loan_ID','Loan_Status'],axis=1)\n",
    "y=df_train['Loan_Status']\n",
    "X_test,X_train,y_test,y_train = train_test_split(X,y,test_size =0.2)\n"
   ]
  },
  {
   "cell_type": "code",
   "execution_count": 41,
   "id": "67be00ee",
   "metadata": {},
   "outputs": [],
   "source": [
    "models = {\n",
    "    \"Logistic Regression\": LogisticRegression(),\n",
    "    \"Random Forest\": RandomForestClassifier(n_estimators=150),\n",
    "     \"SVM\": SVC()\n",
    "}\n",
    "\n",
    "def fit_and_score(models, X_train, X_test, y_train, y_test):\n",
    "    '''\n",
    "    Fits and evaluates given machine learning models.\n",
    "    models : a dict of different Scikit-Learn machine learning models\n",
    "    :param models: \n",
    "    :param X_train: \n",
    "    :param X_test: \n",
    "    :param y_train: \n",
    "    :param y_test: \n",
    "    :return: \n",
    "    '''\n",
    "    \n",
    "    #set the random seed \n",
    "    np.random.seed(42)\n",
    "    \n",
    "    # making dictionary to keep model scores \n",
    "    model_scores = {}\n",
    "    # making dictionary to keep confusion matrices\n",
    "    confusion_matrices = {}\n",
    "    # making dictionary to keep classification reports\n",
    "    classification_reports = {}\n",
    "    \n",
    "    # looping through the model\n",
    "    for name, model in models.items():\n",
    "        # Fitting the model to the data\n",
    "        model.fit(X_train,y_train)\n",
    "        # Predicting on the test set\n",
    "        y_pred = model.predict(X_test)\n",
    "        # evaluating the model and append its score to model_scores\n",
    "        model_scores[name] = model.score(X_test,y_test)\n",
    "        # Computing the confusion matrix\n",
    "        cm = confusion_matrix(y_test, y_pred)\n",
    "        confusion_matrices[name] = cm\n",
    "        # Generating the classification report\n",
    "        report = classification_report(y_test, y_pred)\n",
    "        classification_reports[name] = report\n",
    "        \n",
    "    return model_scores, confusion_matrices, classification_reports"
   ]
  },
  {
   "cell_type": "markdown",
   "id": "06c28ab1",
   "metadata": {},
   "source": [
    "### Evaluating the model"
   ]
  },
  {
   "cell_type": "code",
   "execution_count": 42,
   "id": "e35d7cfd",
   "metadata": {},
   "outputs": [
    {
     "name": "stderr",
     "output_type": "stream",
     "text": [
      "C:\\Users\\aumpa\\anaconda3\\lib\\site-packages\\sklearn\\linear_model\\_logistic.py:814: ConvergenceWarning: lbfgs failed to converge (status=1):\n",
      "STOP: TOTAL NO. of ITERATIONS REACHED LIMIT.\n",
      "\n",
      "Increase the number of iterations (max_iter) or scale the data as shown in:\n",
      "    https://scikit-learn.org/stable/modules/preprocessing.html\n",
      "Please also refer to the documentation for alternative solver options:\n",
      "    https://scikit-learn.org/stable/modules/linear_model.html#logistic-regression\n",
      "  n_iter_i = _check_optimize_result(\n",
      "C:\\Users\\aumpa\\anaconda3\\lib\\site-packages\\sklearn\\metrics\\_classification.py:1318: UndefinedMetricWarning: Precision and F-score are ill-defined and being set to 0.0 in labels with no predicted samples. Use `zero_division` parameter to control this behavior.\n",
      "  _warn_prf(average, modifier, msg_start, len(result))\n",
      "C:\\Users\\aumpa\\anaconda3\\lib\\site-packages\\sklearn\\metrics\\_classification.py:1318: UndefinedMetricWarning: Precision and F-score are ill-defined and being set to 0.0 in labels with no predicted samples. Use `zero_division` parameter to control this behavior.\n",
      "  _warn_prf(average, modifier, msg_start, len(result))\n",
      "C:\\Users\\aumpa\\anaconda3\\lib\\site-packages\\sklearn\\metrics\\_classification.py:1318: UndefinedMetricWarning: Precision and F-score are ill-defined and being set to 0.0 in labels with no predicted samples. Use `zero_division` parameter to control this behavior.\n",
      "  _warn_prf(average, modifier, msg_start, len(result))\n"
     ]
    },
    {
     "data": {
      "text/plain": [
       "{'Logistic Regression': 0.814663951120163,\n",
       " 'Random Forest': 0.7576374745417516,\n",
       " 'SVM': 0.6965376782077393}"
      ]
     },
     "execution_count": 42,
     "metadata": {},
     "output_type": "execute_result"
    }
   ],
   "source": [
    "model_scores, confusion_matrices, classification_reports = fit_and_score(models, X_train, X_test, y_train, y_test)\n",
    "# printing model scores\n",
    "model_scores"
   ]
  },
  {
   "cell_type": "code",
   "execution_count": 48,
   "id": "e59c35b5",
   "metadata": {},
   "outputs": [
    {
     "name": "stdout",
     "output_type": "stream",
     "text": [
      "\n",
      "Confusion Matrices:\n",
      "\n",
      "Confusion Matrix for Logistic Regression:\n",
      "[[ 65  84]\n",
      " [  7 335]]\n",
      "\n",
      "Confusion Matrix for Random Forest:\n",
      "[[ 72  77]\n",
      " [ 42 300]]\n",
      "\n",
      "Confusion Matrix for SVM:\n",
      "[[  0 149]\n",
      " [  0 342]]\n"
     ]
    }
   ],
   "source": [
    "# printing confusion matrix for both models \n",
    "print(\"\\nConfusion Matrices:\")\n",
    "for name, cm in confusion_matrices.items():\n",
    "    print(f\"\\nConfusion Matrix for {name}:\")\n",
    "    print(cm)"
   ]
  },
  {
   "cell_type": "code",
   "execution_count": 49,
   "id": "a2dae7c5",
   "metadata": {},
   "outputs": [
    {
     "name": "stdout",
     "output_type": "stream",
     "text": [
      "Classification Report for Logistic Regression:\n",
      "              precision    recall  f1-score   support\n",
      "\n",
      "           0       0.90      0.44      0.59       149\n",
      "           1       0.80      0.98      0.88       342\n",
      "\n",
      "    accuracy                           0.81       491\n",
      "   macro avg       0.85      0.71      0.73       491\n",
      "weighted avg       0.83      0.81      0.79       491\n",
      "\n",
      "\n",
      "Classification Report for Random Forest:\n",
      "              precision    recall  f1-score   support\n",
      "\n",
      "           0       0.63      0.48      0.55       149\n",
      "           1       0.80      0.88      0.83       342\n",
      "\n",
      "    accuracy                           0.76       491\n",
      "   macro avg       0.71      0.68      0.69       491\n",
      "weighted avg       0.75      0.76      0.75       491\n",
      "\n",
      "\n",
      "Classification Report for SVM:\n",
      "              precision    recall  f1-score   support\n",
      "\n",
      "           0       0.00      0.00      0.00       149\n",
      "           1       0.70      1.00      0.82       342\n",
      "\n",
      "    accuracy                           0.70       491\n",
      "   macro avg       0.35      0.50      0.41       491\n",
      "weighted avg       0.49      0.70      0.57       491\n",
      "\n",
      "\n"
     ]
    }
   ],
   "source": [
    "# Print classification reports for each model\n",
    "for name, report in classification_reports.items():\n",
    "    print(f\"Classification Report for {name}:\\n{report}\\n\")"
   ]
  },
  {
   "cell_type": "markdown",
   "id": "0a06da40",
   "metadata": {},
   "source": [
    "#### Plotting a bar chart depicting the accuracy of different models "
   ]
  },
  {
   "cell_type": "code",
   "execution_count": 50,
   "id": "5768ebd7",
   "metadata": {},
   "outputs": [
    {
     "data": {
      "image/png": "[encoded data removed]",
      "text/plain": [
       "<Figure size 640x480 with 1 Axes>"
      ]
     },
     "metadata": {},
     "output_type": "display_data"
    }
   ],
   "source": [
    "models = list(model_scores.keys())\n",
    "accuracies = list(model_scores.values())\n",
    "\n",
    "plt.bar(models, accuracies, color=['blue', 'green', 'orange'])\n",
    "plt.xlabel('Models')\n",
    "plt.ylabel('Accuracy')\n",
    "plt.title('Accuracy of Different Models')\n",
    "plt.ylim([0, 1])  # Set the y-axis limit to represent accuracy percentage (0-100%)\n",
    "plt.show()"
   ]
  },
  {
   "cell_type": "markdown",
   "id": "9b66078b",
   "metadata": {},
   "source": [
    "#### A bar chart to compare precision, recall, and F1-score for each model."
   ]
  },
  {
   "cell_type": "code",
   "execution_count": 52,
   "id": "6d2afd6e",
   "metadata": {},
   "outputs": [
    {
     "data": {
      "image/png": "[encoded data removed]",
      "text/plain": [
       "<Figure size 640x480 with 1 Axes>"
      ]
     },
     "metadata": {},
     "output_type": "display_data"
    }
   ],
   "source": [
    "models = ['Logistic Regression', 'Random Forest', 'SVM']\n",
    "precision_scores = [0.775, 0.785, 0.678]\n",
    "recall_scores = [0.943, 0.925, 1.0]\n",
    "f1_scores = [0.851, 0.849, 0.808]\n",
    "\n",
    "x = np.arange(len(models))\n",
    "width = 0.25\n",
    "\n",
    "fig, ax = plt.subplots()\n",
    "ax.bar(x - width, precision_scores, width, label='Precision')\n",
    "ax.bar(x, recall_scores, width, label='Recall')\n",
    "ax.bar(x + width, f1_scores, width, label='F1-Score')\n",
    "\n",
    "ax.set_xticks(x)\n",
    "ax.set_xticklabels(models)\n",
    "ax.legend()\n",
    "plt.show()"
   ]
  },
  {
   "cell_type": "code",
   "execution_count": null,
   "id": "a28252c0",
   "metadata": {},
   "outputs": [],
   "source": []
  }
 ],
 "metadata": {
  "kernelspec": {
   "display_name": "Python 3 (ipykernel)",
   "language": "python",
   "name": "python3"
  },
  "language_info": {
   "codemirror_mode": {
    "name": "ipython",
    "version": 3
   },
   "file_extension": ".py",
   "mimetype": "text/x-python",
   "name": "python",
   "nbconvert_exporter": "python",
   "pygments_lexer": "ipython3",
   "version": "3.9.13"
  }
 },
 "nbformat": 4,
 "nbformat_minor": 5
}
